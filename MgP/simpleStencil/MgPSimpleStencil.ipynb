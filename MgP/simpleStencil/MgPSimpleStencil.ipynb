{
 "cells": [
  {
   "cell_type": "markdown",
   "id": "c3e071e5-1f43-4b20-ac1d-c4bf98583988",
   "metadata": {},
   "source": [
    "# MgP Stencil Example\n",
    "\n",
    "### Write SysML model"
   ]
  },
  {
   "cell_type": "code",
   "execution_count": null,
   "id": "43147b97-c717-4876-836d-e520524524b9",
   "metadata": {},
   "outputs": [],
   "source": [
    "%edit MgPSimpleStencil.sysml"
   ]
  },
  {
   "cell_type": "code",
   "execution_count": null,
   "id": "8f9d1016-6bb8-4229-a23b-61254425b041",
   "metadata": {},
   "outputs": [],
   "source": [
    "%viz MgPSimpleStencil::distributionContext --view interconnection --style stdcolor "
   ]
  },
  {
   "cell_type": "code",
   "execution_count": null,
   "id": "92d517b7-b8c5-470d-9a9d-20ce3a7ef365",
   "metadata": {},
   "outputs": [],
   "source": [
    "%mgp open MgPSimpleStencil"
   ]
  }
 ],
 "metadata": {
  "kernelspec": {
   "display_name": "MgPy",
   "language": "python",
   "name": "mgpy"
  },
  "language_info": {
   "codemirror_mode": {
    "name": "ipython",
    "version": 3
   },
   "file_extension": ".py",
   "mimetype": "text/x-python",
   "name": "python",
   "nbconvert_exporter": "python",
   "pygments_lexer": "ipython3",
   "version": "3.11.8"
  }
 },
 "nbformat": 4,
 "nbformat_minor": 5
}
