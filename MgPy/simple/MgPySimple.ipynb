{
 "cells": [
  {
   "cell_type": "markdown",
   "id": "25fb77f9-8ee5-45bd-a2ee-68abdbe1b576",
   "metadata": {},
   "source": [
    "# MgPy Example (1)"
   ]
  },
  {
   "cell_type": "markdown",
   "id": "6ea4533d-2370-4a5f-9ac1-fc2180c11372",
   "metadata": {},
   "source": [
    "### Edit a SysML file"
   ]
  },
  {
   "cell_type": "code",
   "execution_count": null,
   "id": "0f76ce41-172c-40e1-baa9-12b88656dc18",
   "metadata": {
    "scrolled": true
   },
   "outputs": [],
   "source": [
    "%edit MgPyExample1.sysml"
   ]
  },
  {
   "cell_type": "markdown",
   "id": "28058392-1613-4c64-a738-74dd033be0d0",
   "metadata": {},
   "source": [
    "### %%sysml magic makes a SysML cell. And you can refer the model above."
   ]
  },
  {
   "cell_type": "code",
   "execution_count": null,
   "id": "8629956a-5d41-4b19-9391-32e548140e6b",
   "metadata": {},
   "outputs": [],
   "source": [
    "%%sysml\n",
    "package MgPyExample2 {\n",
    "    import MgPyExample1::*;\n",
    "    part vehicle1: Vehicle {\n",
    "        attribute :>> mass = 1000[kg] + engine.mass;\n",
    "        part engine {\n",
    "            attribute mass default 100[kg];\n",
    "        }\n",
    "        exhibit state extendedState :>> vehicleState {\n",
    "            state idle;\n",
    "            transition first run then idle;\n",
    "        }\n",
    "    }\n",
    "    part vehicle2 :> vehicle1 {\n",
    "        // attribute :>> mass;\n",
    "        part :>> engine {\n",
    "            :>> mass = 200[kg];\n",
    "        }\n",
    "    }\n",
    "}"
   ]
  },
  {
   "cell_type": "markdown",
   "id": "84cbea1b-e631-4d72-85af-660fd52786ea",
   "metadata": {},
   "source": [
    "### %viz visualizes models.  Notice that the argument syntax is different from that of MgSysML"
   ]
  },
  {
   "cell_type": "code",
   "execution_count": null,
   "id": "9d5ead6a-631f-4b29-9b09-b28697096ea5",
   "metadata": {},
   "outputs": [],
   "source": [
    "%viz MgPyExample2 -s showinherited showimported eval lr"
   ]
  },
  {
   "cell_type": "markdown",
   "id": "7335152b-8877-424d-b8e2-1ec7fdc7aa47",
   "metadata": {},
   "source": [
    "### The dot-query of Mg allows you to flexibly look up SysMLv2 models"
   ]
  },
  {
   "cell_type": "code",
   "execution_count": null,
   "id": "b916fe50-868c-4380-a5d7-7cde03a06e49",
   "metadata": {},
   "outputs": [],
   "source": [
    "from mgpy.mg import iMg\n",
    "VehicleElements = iMg.dq('MgPyExample1.Vehicle.*')\n",
    "for e in VehicleElements:\n",
    "    print(e.getName())"
   ]
  },
  {
   "cell_type": "markdown",
   "id": "9aa6fd3c-63b9-4cc0-9d06-a147dfd9d427",
   "metadata": {},
   "source": [
    "### You can visualize the queried elements"
   ]
  },
  {
   "cell_type": "code",
   "execution_count": null,
   "id": "358aa38b-5d31-48b2-be75-99d28b3de28c",
   "metadata": {},
   "outputs": [],
   "source": [
    "iMg.viz(VehicleElements, ['Interconnection'], [])"
   ]
  },
  {
   "cell_type": "markdown",
   "id": "5fc38195-5a80-4f00-a83e-f9380b16659e",
   "metadata": {},
   "source": [
    "### You can flexibly access the values by using Python scripts"
   ]
  },
  {
   "cell_type": "code",
   "execution_count": null,
   "id": "00c7131b-7030-4bb0-b4ff-fdf960710ba2",
   "metadata": {},
   "outputs": [],
   "source": [
    "vehicles = iMg.dq('MgPyExample2.*.#{Vehicle}')\n",
    "total = 0\n",
    "for v in vehicles:\n",
    "    mass = iMg.dq('.mass.eval()', v)[0]\n",
    "    total += mass\n",
    "    print (f'{ v.getName() } mass is { mass }')\n",
    "print (f'The total is { total }')"
   ]
  },
  {
   "cell_type": "code",
   "execution_count": null,
   "id": "c6e6f150-d6b1-4939-986c-77ebfdf0540a",
   "metadata": {},
   "outputs": [],
   "source": [
    "%mgp open MgPyExample1"
   ]
  }
 ],
 "metadata": {
  "kernelspec": {
   "display_name": "MgPy",
   "language": "python",
   "name": "mgpy"
  },
  "language_info": {
   "codemirror_mode": {
    "name": "ipython",
    "version": 3
   },
   "file_extension": ".py",
   "mimetype": "text/x-python",
   "name": "python",
   "nbconvert_exporter": "python",
   "pygments_lexer": "ipython3",
   "version": "3.11.8"
  }
 },
 "nbformat": 4,
 "nbformat_minor": 5
}
