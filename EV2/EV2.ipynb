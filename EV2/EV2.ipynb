{
 "cells": [
  {
   "cell_type": "markdown",
   "metadata": {},
   "source": [
    "# Electric Vehicle Example"
   ]
  },
  {
   "cell_type": "markdown",
   "metadata": {},
   "source": [
    "## Target EV model\n",
    "\n",
    "A simple 1D EV model, consisting of a battery, a motor, and tire.  Each of them has a `#simBlock action` (inheriting `StateSpaceRepresentation::ContinuousStateSpaceDynamics`), which corresponds to a Simulink block.\n",
    "\n",
    "Note that attribute values marked with `@MgS::Param` are reflected to the model workspace of Simulink."
   ]
  },
  {
   "cell_type": "code",
   "execution_count": 2,
   "metadata": {},
   "outputs": [
    {
     "data": {
      "text/plain": [
       "Loaded EV2.sysml\n"
      ]
     },
     "execution_count": 2,
     "metadata": {},
     "output_type": "execute_result"
    }
   ],
   "source": [
    "%load EV2.sysml"
   ]
  },
  {
   "cell_type": "code",
   "execution_count": 4,
   "metadata": {},
   "outputs": [
    {
     "data": {
      "text/html": [
       "<p>Edit EV2.sysml </p>\r\n",
       "<iframe src=\"http://localhost:61724/sysml.html?EV2.sysml\" width=\"100%\" height=\"700px\" allow=\"fullscreen\">\r\n",
       "failed to open EV2.sysml\r\n",
       "</iframe>\r\n"
      ]
     },
     "execution_count": 4,
     "metadata": {},
     "output_type": "execute_result"
    }
   ],
   "source": [
    "%edit EV2.sysml"
   ]
  },
  {
   "cell_type": "code",
   "execution_count": null,
   "metadata": {},
   "outputs": [],
   "source": [
    "%viz --view tree --style comptree --style showinherited --style stdcolor --style lr EV2::Vehicle"
   ]
  },
  {
   "cell_type": "markdown",
   "metadata": {},
   "source": [
    "## Compact and Large EV Contexts"
   ]
  },
  {
   "cell_type": "code",
   "execution_count": null,
   "metadata": {},
   "outputs": [],
   "source": [
    "package CompactEV {\n",
    "    import EV2::*;\n",
    "\n",
    "    part vehicle_compact :> baseVehicle {\n",
    "        :>> mass = 800[kg];\n",
    "        action :>> battery {\n",
    "            :>> capacity = 50['A⋅h'];\n",
    "        }\n",
    "        \n",
    "        action :>> powerTrain {\n",
    "            action motor : EVlib::Motor {\n",
    "                :>> torqueCoeff = 10 ['N⋅m/A'];\n",
    "                :>> motR = 4['Ω'];\n",
    "                :>> motL = 0.2[H];\n",
    "            }\n",
    "            action tire : EVlib::Tire {\n",
    "                :>> moment = 200['kg⋅m²'];\n",
    "                :>> radius = 0.5[m];\n",
    "            }\n",
    "            bind input.voltage = motor.input.voltage;\n",
    "            bind motor.output.current = output.current;\n",
    "\n",
    "            flow mt2tt from motor.output.torque to tire.input.torque;\n",
    "            flow to2mf from tire.output.torque to motor.input.friction;\n",
    "            \n",
    "            bind input.accel = tire.input.accel;\n",
    "            bind tire.output.force = output.force;\n",
    "        }\n",
    "    }\n",
    "\n",
    "    part smallEVRangeContext {\n",
    "        requirement smallEVRequirement : VehicleRequirement {\n",
    "            doc /* The small EVs must be ligher than 900[kg] */\n",
    "            in :>> vehicle = vehicle_compact;\n",
    "            /*  To comform with the regulation and the battery mass will impact it. */\n",
    "            assume constraint { vehicle.mass < 900[kg] }\n",
    "        }\n",
    "\n",
    "        analysis smallEVAnalysis : VehicleAnalysis {\n",
    "            subject :>> vehicle :> vehicle_compact;\n",
    "            requirement :>> vehicleRequirement = smallEVRequirement;\n",
    "        }\n",
    "\n",
    "        requirement <C1> rangeRequirementSmall :> smallEVRequirement : RangeRequirement {\n",
    "            doc /* The small EVs must run longer than 130km */\n",
    "            attribute :>> requiredRange = 130[km];\n",
    "        }\n",
    "\n",
    "        analysis rangeAnalysisSmall :> smallEVAnalysis : RangeAnalysis {\n",
    "            :>> simCond { :>> toTime = 5000[s]; }\n",
    "            requirement :>> rangeRequirement = rangeRequirementSmall;\n",
    "            return simulatedRange = vehicle.vehicleBehavior.output.distance {\n",
    "                @MgS::SimRet {\n",
    "                    ret = MgS::Retrieval::FINAL;\n",
    "                }\n",
    "            }\n",
    "        }\n",
    "\n",
    "        requirement <C2> efficiencyRequirementSmall :> smallEVRequirement : EfficiencyRequirement {\n",
    "            doc /* The target efficiency of small EVs is 0.9. */\n",
    "            attribute :>> requiredEfficiency = 0.9;\n",
    "        }\n",
    "\n",
    "        analysis efficiencyAnalysisSmall :> smallEVAnalysis : EfficiencyAnalysis {\n",
    "            :>> simCond { :>> toTime = 1800[s]; }\n",
    "            requirement :>> efficiencyRequirement = efficiencyRequirementSmall;\n",
    "\n",
    "            return simulatedEfficiency = vehicle.efficiency { @MgS::SimRet; }\n",
    "        }\n",
    "\n",
    "        requirement <C3> maxSpeedRequirementSmall :> smallEVRequirement : MaxSpeedRequirement {\n",
    "            doc /* The target maximum speed of small EVs is 130 [km/h]. */\n",
    "            attribute :>> requiredMaxSpeed = 130 [km/h];\n",
    "        }\n",
    "\n",
    "        analysis maxSpeedAnalysisSmall :> smallEVAnalysis : MaxSpeedAnalysis {\n",
    "            :>> simCond { :>> toTime = 400[s]; }\n",
    "            requirement :>> maxSpeedRequirement = maxSpeedRequirementSmall;\n",
    "            out voltage :> ISQ::electricPotential = vehicle.battery.output.voltage {\n",
    "                @MgS::SimRet {\n",
    "                    ret = Retrieval::FULL;\n",
    "                }\n",
    "            }\n",
    "            return simulatedMaxSpeed = vehicle.vehicleBehavior.output.velocity {\n",
    "                @MgS::SimRet {\n",
    "                    ret = Retrieval::MAX;\n",
    "                }\n",
    "            }\n",
    "        }\n",
    "    }\n",
    "}"
   ]
  },
  {
   "cell_type": "code",
   "execution_count": null,
   "metadata": {},
   "outputs": [],
   "source": [
    "%viz --view tree --style stdcolor --style lr CompactEV::smallEVRangeContext"
   ]
  },
  {
   "cell_type": "code",
   "execution_count": null,
   "metadata": {},
   "outputs": [],
   "source": [
    "%viz --view action --style lr --style ortholine --style stdcolor CompactEV::vehicle_compact"
   ]
  },
  {
   "cell_type": "code",
   "execution_count": 3,
   "metadata": {},
   "outputs": [
    {
     "name": "stdout",
     "output_type": "stream",
     "text": [
      "WARNING:Bound features should have conforming types (2.sysml line : 62 column : 27)\n",
      "WARNING:Bound features should have conforming types (2.sysml line : 89 column : 27)\n",
      "WARNING:Bound features should have conforming types (2.sysml line : 94 column : 27)\n"
     ]
    },
    {
     "data": {
      "text/plain": [
       "Package LargeEV (c732bd99-4bfc-4ea3-8627-95129b72569d)\n"
      ]
     },
     "execution_count": 3,
     "metadata": {},
     "output_type": "execute_result"
    }
   ],
   "source": [
    "package LargeEV {\n",
    "    import EV2::*;\n",
    "    \n",
    "    part vehicle_large :> baseVehicle {\n",
    "        :>> mass = 1100[kg];\n",
    "        action :>> battery {\n",
    "            :>> capacity = 70['A⋅h'];\n",
    "        }\n",
    "        \n",
    "        attribute baseResistance = 3['Ω'];\n",
    "        action :>> powerTrain {\n",
    "            action motor : EVlib::Motor {\n",
    "                :>> torqueCoeff = 13 ['N⋅m/A'];\n",
    "                :>> motR = 5['Ω'] + baseResistance;\n",
    "                :>> motL = 0.2[H];\n",
    "            }\n",
    "            action tire : EVlib::Tire {\n",
    "                :>> moment = 300['kg⋅m²'];\n",
    "                :>> radius = 0.7[m];\n",
    "            }\n",
    "            bind input.voltage = motor.input.voltage;\n",
    "            bind motor.output.current = output.current;\n",
    "\n",
    "            flow mt2rt from motor.output.torque to reducer.input.torque;\n",
    "            \n",
    "            action reducer : EVlib::Reducer {\n",
    "                :>> gearRatio = 1.5;\n",
    "            }\n",
    "            \n",
    "            flow rt2tt from reducer.output.torque to tire.input.torque;\n",
    "            flow to2mf from tire.output.torque to motor.input.friction;\n",
    "            \n",
    "            bind input.accel = tire.input.accel;\n",
    "            bind tire.output.force = output.force;\n",
    "        }\n",
    "        \n",
    "    }\n",
    "\n",
    "    part largeEVRangeContext {\n",
    "        requirement largeEVRequirement : VehicleRequirement {\n",
    "            doc /* The large EVs must be ligher than 900[kg] */\n",
    "            in :>> vehicle = vehicle_large;\n",
    "            /*  To comform with the regulation and the battery mass will impact it. */\n",
    "            assume constraint { vehicle.mass < 1200[kg] }\n",
    "        }\n",
    "\n",
    "        analysis largeEVAnalysis : VehicleAnalysis {\n",
    "            subject :>> vehicle :> vehicle_large;\n",
    "            requirement :>> vehicleRequirement = largeEVRequirement;\n",
    "        }\n",
    "\n",
    "        requirement <L1> rangeRequirementLarge :> largeEVRequirement : RangeRequirement {\n",
    "            doc /* The large EVs must run longer than 200km */\n",
    "            attribute :>> requiredRange = 200[km];\n",
    "        }\n",
    "\n",
    "        analysis rangeAnalysisLarge :> largeEVAnalysis : RangeAnalysis {\n",
    "            :>> simCond { :>> toTime = 5000[s]; }\n",
    "            requirement :>> rangeRequirement = rangeRequirementLarge;\n",
    "            return simulatedRange = vehicle.vehicleBehavior.output.distance {\n",
    "                @MgS::SimRet {\n",
    "                    ret = MgS::Retrieval::FINAL;\n",
    "                }\n",
    "            }\n",
    "        }\n",
    "\n",
    "        requirement <L2> efficiencyRequirementLarge :> largeEVRequirement : EfficiencyRequirement {\n",
    "            doc /* The target efficiency of large EVs is 0.8. */\n",
    "            attribute :>> requiredEfficiency = 0.8;\n",
    "        }\n",
    "\n",
    "        analysis efficiencyAnalysisLarge :> largeEVAnalysis : EfficiencyAnalysis {\n",
    "            :>> simCond { :>> toTime = 1800[s]; }\n",
    "            requirement :>> efficiencyRequirement = efficiencyRequirementLarge;\n",
    "\n",
    "            return simulatedEfficiency = vehicle.efficiency { @MgS::SimRet; }\n",
    "        }\n",
    "\n",
    "        requirement <L3> maxSpeedRequirementLarge :> largeEVRequirement : MaxSpeedRequirement {\n",
    "            doc /* The target maximum speed of large EVs is 140 [km/h]. */\n",
    "            attribute :>> requiredMaxSpeed = 140 [km/h];\n",
    "        }\n",
    "\n",
    "        analysis maxSpeedAnalysisLarge :> largeEVAnalysis : MaxSpeedAnalysis {\n",
    "            :>> simCond { :>> toTime = 700[s]; }\n",
    "            requirement :>> maxSpeedRequirement = maxSpeedRequirementLarge;\n",
    "            out voltage = vehicle.battery.output.voltage {\n",
    "                @MgS::SimRet {\n",
    "                    ret = Retrieval::FULL;\n",
    "                }\n",
    "            }\n",
    "            return simulatedMaxSpeed = vehicle.vehicleBehavior.output.velocity {\n",
    "                @MgS::SimRet {\n",
    "                    ret = Retrieval::MAX;\n",
    "                }\n",
    "            }\n",
    "        }\n",
    "    }\n",
    "}"
   ]
  },
  {
   "cell_type": "code",
   "execution_count": null,
   "metadata": {},
   "outputs": [],
   "source": [
    "%viz --view action --style lr --style stdcolor LargeEV::vehicle_large"
   ]
  },
  {
   "cell_type": "markdown",
   "metadata": {},
   "source": [
    "## Analysis Evaluation"
   ]
  },
  {
   "cell_type": "code",
   "execution_count": 4,
   "metadata": {},
   "outputs": [
    {
     "data": {
      "text/plain": [
       "analysisCases, smallEVAnalysis, efficiencyAnalysisSmall, largeEVAnalysis, maxSpeedAnalysisSmall, rangeAnalysisSmall, self, rangeAnalysisLarge, subAnalysisCases, efficiencyAnalysisLarge, maxSpeedAnalysisLarge"
      ]
     },
     "execution_count": 4,
     "metadata": {},
     "output_type": "execute_result"
    }
   ],
   "source": [
    "%mgs list"
   ]
  },
  {
   "cell_type": "code",
   "execution_count": 5,
   "metadata": {
    "scrolled": true,
    "tags": []
   },
   "outputs": [
    {
     "name": "stderr",
     "output_type": "stream",
     "text": [
      "Launching MATLAB...\n"
     ]
    },
    {
     "data": {
      "text/plain": [
       "Flow connection: mt2tt has no corresponding Simulink line\n",
       "Flow connection: to2mf has no corresponding Simulink line\n",
       "Flow connection: bv2pv has no corresponding Simulink line\n",
       "Flow connection: pc2bc has no corresponding Simulink line\n",
       "Flow connection: va2pa has no corresponding Simulink line\n",
       "Flow connection: pf2vf has no corresponding Simulink line\n",
       "Line (va2ta) |vehicleBehavior/accel| --> |EV2/Accel| does not correspond to any SysML element.\n",
       "!!It had an MgS tag and was removed \n",
       "Line () |vehicleBehavior/distance| --> |EV2/Distance| does not correspond to any SysML element.\n",
       "Line () |vehicleBehavior/velocity| --> |EV2/Velociy| does not correspond to any SysML element.\n",
       "Block SLO:EV2/Accel[block] does not correspond to any SysML element.\n",
       "Block SLO:EV2/Distance[block] does not correspond to any SysML element.\n",
       "Block SLO:EV2/Velociy[block] does not correspond to any SysML element.\n",
       "!Made a new line for connection: null \n",
       "!Made a new line for connection: null \n",
       "!Made a new line for connection: mt2tt \n",
       "!Made a new line for connection: to2mf \n",
       "!Made a new line for connection: null \n",
       "!Made a new line for connection: null \n",
       "!Made a new line for connection: null \n",
       "!Made a new line for connection: bv2pv \n",
       "!Made a new line for connection: pc2bc \n",
       "!Made a new line for connection: va2pa \n",
       "!Made a new line for connection: pf2vf \n",
       "Executed...\n"
      ]
     },
     "execution_count": 5,
     "metadata": {},
     "output_type": "execute_result"
    }
   ],
   "source": [
    "%mgs exec rangeAnalysisSmall"
   ]
  },
  {
   "cell_type": "code",
   "execution_count": 7,
   "metadata": {
    "scrolled": true
   },
   "outputs": [
    {
     "data": {
      "text/plain": [
       "[Success] Binding: null is matched with Line () |powerTrain/voltage| --> |powerTrain/motor|\n",
       "[Success] Binding: null is matched with Line (mc2bc) |powerTrain/motor| --> |powerTrain/current|\n",
       "Flow connection: mt2rt has no corresponding Simulink line\n",
       "Flow connection: rt2tt has no corresponding Simulink line\n",
       "[Success] Flow connection: to2mf is matched with Line (to2mf) |powerTrain/tire| --> |powerTrain/motor|\n",
       "[Success] Binding: null is matched with Line () |powerTrain/accel| --> |powerTrain/tire|\n",
       "[Success] Binding: null is matched with Line (tf2vf) |powerTrain/tire| --> |powerTrain/force|\n",
       "[Success] Flow connection: null is matched with Line (bv2pv) |EV2/battery| --> |EV2/voltage|\n",
       "[Success] Flow connection: bv2pv is matched with Line (bv2pv) |EV2/battery| --> |powerTrain/voltage|\n",
       "[Success] Flow connection: pc2bc is matched with Line (pc2bc) |powerTrain/current| --> |EV2/battery|\n",
       "[Success] Flow connection: va2pa is matched with Line (va2pa) |vehicleBehavior/accel| --> |powerTrain/accel|\n",
       "[Success] Flow connection: pf2vf is matched with Line (pf2vf) |powerTrain/force| --> |vehicleBehavior/force|\n",
       "[Warning] Line (bv2pv) |EV2/battery| --> |EV2/voltage|powerTrain/voltage| has multiple targets and is ignored.\n",
       "Line () |vehicleBehavior/distance| --> |EV2/Distance| does not correspond to any SysML element.\n",
       "Line () |vehicleBehavior/velocity| --> |EV2/Velociy| does not correspond to any SysML element.\n",
       "Block SLO:EV2/Accel[block] does not correspond to any SysML element.\n",
       "Block SLO:EV2/Distance[block] does not correspond to any SysML element.\n",
       "Block SLO:EV2/Velociy[block] does not correspond to any SysML element.\n",
       "Line (mt2tt) |powerTrain/motor| --> |powerTrain/tire| does not correspond to any SysML element.\n",
       "!!It had an MgS tag and was removed \n",
       "!Made a new line for connection: mt2rt \n",
       "!Made a new line for connection: rt2tt \n",
       "Executed...\n"
      ]
     },
     "execution_count": 7,
     "metadata": {},
     "output_type": "execute_result"
    }
   ],
   "source": [
    "%mgs exec maxSpeedAnalysisLarge"
   ]
  },
  {
   "cell_type": "code",
   "execution_count": 6,
   "metadata": {},
   "outputs": [
    {
     "data": {
      "text/plain": [
       "Opened MgX template: .\\EV2.xlsm"
      ]
     },
     "execution_count": 6,
     "metadata": {},
     "output_type": "execute_result"
    }
   ],
   "source": [
    "%mgx open EV2"
   ]
  },
  {
   "cell_type": "code",
   "execution_count": null,
   "metadata": {
    "tags": []
   },
   "outputs": [],
   "source": [
    "%mgs exec maxSpeedAnalysisSmall"
   ]
  },
  {
   "cell_type": "code",
   "execution_count": null,
   "metadata": {},
   "outputs": [],
   "source": [
    "%mgp open EV2"
   ]
  }
 ],
 "metadata": {
  "kernelspec": {
   "display_name": "MgSysML",
   "language": "sysml",
   "name": "mgsysml"
  },
  "language_info": {
   "codemirror_mode": "sysml",
   "file_extension": ".sysml",
   "mimetype": "text/x-sysml",
   "name": "SysML",
   "pygments_lexer": "java",
   "version": "1.0.0"
  }
 },
 "nbformat": 4,
 "nbformat_minor": 4
}
