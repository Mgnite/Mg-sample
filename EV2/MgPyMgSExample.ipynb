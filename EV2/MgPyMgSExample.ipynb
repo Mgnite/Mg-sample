{
 "cells": [
  {
   "cell_type": "markdown",
   "id": "def9ed1a-fc40-4141-9ba9-6fbdde21d93c",
   "metadata": {},
   "source": [
    "# MgPy-MgS Example\n",
    "## Load EV2 Simulink model"
   ]
  },
  {
   "cell_type": "code",
   "execution_count": 3,
   "id": "b5cc1e8d-6674-442d-b4ee-89e927065f13",
   "metadata": {},
   "outputs": [],
   "source": [
    "from mgpy.mg import iMg\n",
    "ev2 = iMg.mgs().load('', 'EV2')"
   ]
  },
  {
   "cell_type": "markdown",
   "id": "a4feb111-15db-4d0b-a24c-c1b58feb34ce",
   "metadata": {},
   "source": [
    "### get all of the blocks in EV2"
   ]
  },
  {
   "cell_type": "code",
   "execution_count": 5,
   "id": "664f9072-6135-4687-8b3b-25656f51bd6d",
   "metadata": {},
   "outputs": [
    {
     "name": "stdout",
     "output_type": "stream",
     "text": [
      "Accel\n",
      "Distance\n",
      "Velociy\n",
      "battery\n",
      "powerTrain\n",
      "vehicleBehavior\n",
      "voltage\n"
     ]
    }
   ],
   "source": [
    "for blk in ev2.getBlocks():\n",
    "    print(blk.name())"
   ]
  },
  {
   "cell_type": "markdown",
   "id": "953a5742-58f5-4790-b4ba-220f87924440",
   "metadata": {},
   "source": [
    "### Convert the Simulink model to SysML"
   ]
  },
  {
   "cell_type": "code",
   "execution_count": 7,
   "id": "0c92a3c7-6dbb-4305-9107-711d1ee58680",
   "metadata": {},
   "outputs": [],
   "source": [
    "from mgpy.mgs import slSubsystemToSysML\n",
    "slSubSystemToSysML(ev2, 'EV2SS.sysml')"
   ]
  },
  {
   "cell_type": "markdown",
   "id": "5fa5d1d5-4ce2-4555-8fb5-d6a8f68c2c58",
   "metadata": {},
   "source": [
    "### Edit the generated SysML"
   ]
  },
  {
   "cell_type": "code",
   "execution_count": 1,
   "id": "87d20e67-0bb8-4daf-8102-4169ae57f778",
   "metadata": {},
   "outputs": [
    {
     "data": {
      "text/html": [
       "<p>Edit EV2SS.sysml </p>\r\n",
       "<iframe src=\"http://localhost:52189/sysml.html?EV2SS.sysml\" width=\"100%\" height=\"700px\" allow=\"fullscreen\">\r\n",
       "failed to open EV2SS.sysml\r\n",
       "</iframe>\r\n"
      ],
      "text/plain": [
       "<IPython.core.display.HTML object>"
      ]
     },
     "execution_count": 1,
     "metadata": {},
     "output_type": "execute_result"
    }
   ],
   "source": [
    "%edit EV2SS.sysml"
   ]
  }
 ],
 "metadata": {
  "kernelspec": {
   "display_name": "MgPy",
   "language": "python",
   "name": "mgpy"
  },
  "language_info": {
   "codemirror_mode": {
    "name": "ipython",
    "version": 3
   },
   "file_extension": ".py",
   "mimetype": "text/x-python",
   "name": "python",
   "nbconvert_exporter": "python",
   "pygments_lexer": "ipython3",
   "version": "3.11.7"
  }
 },
 "nbformat": 4,
 "nbformat_minor": 5
}
